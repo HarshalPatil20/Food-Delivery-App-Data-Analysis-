{
 "cells": [
  {
   "cell_type": "code",
   "execution_count": null,
   "metadata": {},
   "outputs": [],
   "source": [
    "import pandas as pd\n",
    "import numpy as np\n",
    "import warnings\n",
    "warnings.filterwarnings(\"ignore\")\n",
    "\n",
    "def read_data_from_csv():\n",
    "    hotels=pd.read_csv('zomato.csv')\n",
    "    return hotels\n",
    "\n",
    "\n",
    "def remove_unwanted_columns():\n",
    "    hotels = read_data_from_csv() # assuming this function returns a DataFrame object\n",
    "    unwanted_columns = ['address','phone'] # specify column names to be removed\n",
    "    hotels = hotels.drop(columns=unwanted_columns) # remove unwanted columns\n",
    "    return hotels # return updated DataFrame object\n",
    "\n",
    "#task2: rename columns,  only these columns are allowed in the dataset\n",
    "def rename_columns():\n",
    "    hotels = remove_unwanted_columns() # assuming this function returns a DataFrame object\n",
    "    column_mapping = {'name': 'name', 'rate': 'rating','approx_cost(for two people)':'approx_cost','listed_in(type)':'type'} # specify column name changes\n",
    "    hotels = hotels.rename(columns=column_mapping) # rename columns\n",
    "    return hotels # return updated DataFrame object\n",
    "        \n",
    "\n",
    "#task3: handle  null values of each column\n",
    "def null_value_check():\n",
    "    # call rename_columns() function to get dataframe\n",
    "    hotels = rename_columns()\n",
    "    \n",
    "    # deleting null values of name column\n",
    "    hotels = hotels.dropna(subset=['name'])\n",
    "    \n",
    "    # handling null values of online_order\n",
    "    hotels['online_order'].fillna(value=False, inplace=True)\n",
    "    \n",
    "    # handling null values of book_table\n",
    "    hotels['book_table'].fillna(value=False, inplace=True)\n",
    "    \n",
    "    # handling null values of rating\n",
    "    hotels['rating'].fillna(value=0, inplace=True)\n",
    "    #hotels['rating'].fillna(value=hotels['rating'].mean(), inplace=True)\n",
    "    \n",
    "    # handling null values of votes\n",
    "    hotels['votes'].fillna(value=0, inplace=True)\n",
    "    \n",
    "    # handling null values of location\n",
    "    hotels['location'].fillna(value='NA', inplace=True)\n",
    "    #hotels['location'].fillna(value='Unknown', inplace=True)\n",
    "    hotels['rest_type'].fillna(value='NA', inplace=True)\n",
    "    \n",
    "    hotels['dish_liked'].fillna(value='NA', inplace=True)\n",
    "    \n",
    "    hotels['cuisines'].fillna(value='NA', inplace=True)\n",
    "    \n",
    "    hotels['approx_cost'].fillna(value=0, inplace=True)\n",
    "\n",
    "    hotels['type'].fillna(value='NA', inplace=True)\n",
    "\n",
    "    # return the cleaned DataFrame\n",
    "    return hotels\n",
    "\n",
    "#task4 #find duplicates in the dataset\n",
    "def find_duplicates():\n",
    "    # call null_value_check() function to get dataframe\n",
    "    hotels = null_value_check()\n",
    "    \n",
    "    # drop duplicates, keeping the first occurrence\n",
    "    hotels.drop_duplicates(keep='first', inplace=True)\n",
    "    \n",
    "    # return the cleaned DataFrame\n",
    "    return hotels\n",
    "\n",
    "\n",
    "\n",
    "#task5 removing irrelevant text from all the columns\n",
    "def removing_irrelevant_text():\n",
    "    # call find_duplicates() function to get dataframe\n",
    "    hotels = find_duplicates()\n",
    "\n",
    "    # remove irrelevant text from all columns using string manipulation methods\n",
    "    hotels = hotels[hotels['name'].str.contains('RATED|Rated') == False]\n",
    "    hotels = hotels[hotels['online_order'].str.contains('RATED|Rated') == False]\n",
    "    hotels = hotels[hotels['book_table'].str.contains('RATED|Rated') == False]\n",
    "    hotels = hotels[hotels['rating'].str.contains('RATED|Rated') == False]\n",
    "    hotels = hotels[hotels['votes'].str.contains('RATED|Rated') == False]\n",
    "    hotels = hotels[hotels['location'].str.contains('RATED|Rated') == False]\n",
    "    hotels = hotels[hotels['rest_type'].str.contains('RATED|Rated') == False]\n",
    "    hotels = hotels[hotels['dish_liked'].str.contains('RATED|Rated') == False]\n",
    "    hotels = hotels[hotels['cuisines'].str.contains('RATED|Rated') == False]\n",
    "    hotels = hotels[hotels['approx_cost'].str.contains('RATED|Rated') == False]\n",
    "    hotels = hotels[hotels['type'].str.contains('RATED|Rated') == False]\n",
    "\n",
    "    return hotels\n",
    "\n",
    "\n",
    "#task6: check for unique values in each column and handle the irrelevant values\n",
    "def check_for_unique_values():\n",
    "    # call removing_irrelevant_text() function to get dataframe\n",
    "    hotels = removing_irrelevant_text()\n",
    "    hotels['online_order'] = hotels['online_order'].apply(lambda x: 'No' if x not in ['Yes', 'No'] else x)\n",
    "    hotels = hotels[~hotels['rating'].str.contains('[a-zS]')]\n",
    "    hotels['rating'] = hotels['rating'].replace(['-', 'NEW'], '0') \n",
    "    hotels['rating'] = hotels['rating'].str.replace('/5', '')\n",
    "    def convert_to_int(x):\n",
    "        if x == '0':\n",
    "            return 0\n",
    "        else:\n",
    "            return x\n",
    "    hotels['rating'] = hotels['rating'].apply(convert_to_int)\n",
    "    return hotels\n",
    "    \n",
    "    \n",
    "\n",
    "import re\n",
    "#task7: remove the unknown character from the dataset and export it to \"zomatocleaned.csv\"\n",
    "def remove_the_unknown_character():\n",
    "    #DO NOT REMOVE FOLLOWING LINE\n",
    "    #call check_for_unique_values() function to get dataframe\n",
    "    dataframe = check_for_unique_values()\n",
    "    dataframe['name'] = dataframe['name'].str.replace('[Ãx][^A-Za-z]+','',regex=True)\n",
    "    \n",
    "    dataframe.to_csv('zomatocleaned.csv')\n",
    "    return dataframe\n",
    "\n",
    "\n",
    "\n",
    "    #check if mysql table is created using \"zomatocleaned.csv\"\n",
    "#Use this final dataset and upload it on the provided database for performing analysis in  MySQL\n",
    "#To Run this task first Run the appliation for Terminal to create table named 'Zomato' and then run test.\n",
    "def start():\n",
    "    remove_the_unknown_character()\n",
    "\n",
    "def task_runner():\n",
    "    start()"
   ]
  },
  {
   "cell_type": "markdown",
   "metadata": {},
   "source": [
    "**Task1 -For a high-level overview of the hotels, provide us the top 5 most voted hotels in the delivery category.**"
   ]
  },
  {
   "cell_type": "raw",
   "metadata": {},
   "source": [
    "#write your query\n",
    "SELECT name, votes, rating FROM zomato WHERE type = 'Delivery' ORDER BY votes DESC LIMIT 5;\n"
   ]
  },
  {
   "cell_type": "raw",
   "metadata": {},
   "source": [
    "**Output**\n",
    "\n",
    "Values:\n",
    "    Gustoes Beer House, 1720, 4.1, \n",
    "    Empire Restaurant, 1647, 4.2, \n",
    "    Banashankari Donne Biriyani, 1047, 4.0, \n",
    "    Kabab Magic, 808, 4.0, \n",
    "    Tasty Bytes, 804, 4.0, "
   ]
  },
  {
   "cell_type": "markdown",
   "metadata": {},
   "source": [
    "**Task2 - The rating of a hotel is a key identifier in determining a restaurant’s performance. Hence for a particular location called Banashankari find out the top 5 highly rated hotels in the delivery category.**"
   ]
  },
  {
   "cell_type": "raw",
   "metadata": {},
   "source": [
    "SELECT name, rating, location, type\n",
    "FROM zomato\n",
    "WHERE Location = 'Banashankari' AND Type = 'Delivery'\n",
    "ORDER BY rating DESC\n",
    "LIMIT 5;"
   ]
  },
  {
   "cell_type": "raw",
   "metadata": {},
   "source": [
    "Expected Output: \n",
    "    Total Records Fetched: 5\n",
    "    First 10 records of your query\n",
    "    Headers: \n",
    "    name, rating, location, type, \n",
    "    \n",
    "    Values:\n",
    "    Roving Feast, 4.3, Banashankari, Delivery, \n",
    "    Empire Restaurant, 4.2, Banashankari, Delivery, \n",
    "    Kabab Magic, 4.0, Banashankari, Delivery, \n",
    "    Banashankari Donne Biriyani, 4.0, Banashankari, Delivery, \n",
    "    Chaatimes, 4.0, Banashankari, Delivery, \n",
    "    "
   ]
  },
  {
   "cell_type": "markdown",
   "metadata": {},
   "source": [
    "**Task3 - compare the ratings of the cheapest and most expensive hotels in Indiranagar**"
   ]
  },
  {
   "cell_type": "raw",
   "metadata": {},
   "source": [
    "SELECT MIN(approx_cost) AS rating1, MAX(approx_cost) AS rating2\n",
    "       \n",
    "FROM zomato\n",
    "WHERE location = 'Indiranagar';"
   ]
  },
  {
   "cell_type": "markdown",
   "metadata": {},
   "source": [
    "select\n",
    "(select rating from zomato where location=\"Indiranagar\" order by approx_cost limit 1) as rating1,\n",
    "(select rating from zomato where location=\"Indiranagar\" order by approx_cost desc limit 1) as rating2\n",
    "from zomato limit 1;"
   ]
  },
  {
   "cell_type": "raw",
   "metadata": {},
   "source": [
    "Expected Output: \n",
    "    Total Records Fetched: 1\n",
    "    First 10 records of your query\n",
    "    Headers: \n",
    "    rating1, rating2, \n",
    "    \n",
    "    Values:\n",
    "    None, None,"
   ]
  },
  {
   "cell_type": "markdown",
   "metadata": {},
   "source": [
    "**Task4 - Online ordering of food has exponentially increased over time. Compare the total votes of restaurants that provide online ordering services and those who don’t provide online ordering service**"
   ]
  },
  {
   "cell_type": "raw",
   "metadata": {},
   "source": [
    "SELECT \n",
    "  online_order, \n",
    "  SUM(votes) AS total_votes \n",
    "FROM \n",
    "  zomato \n",
    "GROUP BY \n",
    "  online_order;"
   ]
  },
  {
   "cell_type": "raw",
   "metadata": {},
   "source": [
    "Expected Output: \n",
    "    Total Records Fetched: 2\n",
    "    First 10 records of your query\n",
    "    Headers: \n",
    "    total_votes, online_order, \n",
    "    \n",
    "    Values:\n",
    "    25969, Yes, \n",
    "    3725, No, "
   ]
  },
  {
   "cell_type": "markdown",
   "metadata": {},
   "source": [
    "**Task5 - Number of votes defines how much the customers are involved with the service provided by the restaurants For each Restaurant type, find out the number of restaurants, total votes, and average rating. Display the data with the highest votes on the top( if the first row of output is NA display the remaining rows).**"
   ]
  },
  {
   "cell_type": "raw",
   "metadata": {},
   "source": [
    "SELECT COALESCE(type, '') AS type, COUNT(*) AS number_of_restaurants, \n",
    "       SUM(votes) AS total_votes, AVG(rating) AS avg_rating\n",
    "FROM zomato\n",
    "WHERE type != 'Delivery'\n",
    "GROUP BY type\n",
    "ORDER BY CASE WHEN total_votes IS NULL THEN 1 ELSE 0 END, total_votes DESC;\n"
   ]
  },
  {
   "cell_type": "code",
   "execution_count": null,
   "metadata": {},
   "outputs": [],
   "source": []
  },
  {
   "cell_type": "raw",
   "metadata": {},
   "source": [
    "Expected Output: \n",
    "    Total Records Fetched: 3\n",
    "    First 10 records of your query\n",
    "    Headers: \n",
    "    type, number_of_restaurants, total_votes, avg_rating, \n",
    "    \n",
    "    Values:\n",
    "    , 6, 8959, 4.066666666666666, \n",
    "    Cafes, 24, 6758, 3.774999999999999, \n",
    "    Buffet, 7, 3028, 3.842857142857143, "
   ]
  },
  {
   "cell_type": "code",
   "execution_count": null,
   "metadata": {},
   "outputs": [],
   "source": []
  },
  {
   "cell_type": "markdown",
   "metadata": {},
   "source": [
    "**Task6 - What is the most liked dish of the most-voted restaurant on Zomato(as the restaurant has a tie-up with Zomato, the restaurant compulsorily provides online ordering and delivery facilities.**"
   ]
  },
  {
   "cell_type": "code",
   "execution_count": null,
   "metadata": {},
   "outputs": [],
   "source": [
    "SELECT dish, SUM(votes) AS total_votes\n",
    "FROM zomato\n",
    "WHERE name = (SELECT name FROM zomato ORDER BY votes DESC LIMIT 1)\n",
    "GROUP BY dish\n",
    "ORDER BY total_votes DESC\n",
    "LIMIT 1;"
   ]
  },
  {
   "cell_type": "markdown",
   "metadata": {},
   "source": [
    "**Task7 - To increase the maximum profit, Zomato is in need to expand its business. For doing so Zomato wants the list of the top 15 restaurants which have min 150 votes, have a rating greater than 3, and is currently not providing online ordering. Display the restaurants with highest votes on the top.**"
   ]
  },
  {
   "cell_type": "code",
   "execution_count": null,
   "metadata": {},
   "outputs": [],
   "source": [
    "SELECT name, votes, rating, online_order\n",
    "FROM zomato\n",
    "WHERE online_order = 'No' AND votes >= 150 AND rating > 3\n",
    "ORDER BY votes DESC\n",
    "LIMIT 15;\n",
    "\n",
    "\n"
   ]
  },
  {
   "cell_type": "code",
   "execution_count": null,
   "metadata": {},
   "outputs": [],
   "source": [
    "Expected Output: \n",
    "    Total Records Fetched: 6\n",
    "    First 10 records of your query\n",
    "    Headers: \n",
    "    name, rating, votes, online_order, \n",
    "    \n",
    "    Values:\n",
    "    Banashankari Donne Biriyani, 4.0, 1047, No, \n",
    "    Kabab Magic, 4.0, 808, No, \n",
    "    Caf-Eleven, 4.0, 424, No, \n",
    "    Roving Feast, 4.3, 345, No, \n",
    "    Chinese Kitchen, 4.2, 244, No, \n",
    "    Grand Village, 3.8, 166, No,"
   ]
  }
 ],
 "metadata": {
  "kernelspec": {
   "display_name": "Python 3",
   "language": "python",
   "name": "python3"
  },
  "language_info": {
   "codemirror_mode": {
    "name": "ipython",
    "version": 3
   },
   "file_extension": ".py",
   "mimetype": "text/x-python",
   "name": "python",
   "nbconvert_exporter": "python",
   "pygments_lexer": "ipython3",
   "version": "3.8.3"
  }
 },
 "nbformat": 4,
 "nbformat_minor": 4
}
